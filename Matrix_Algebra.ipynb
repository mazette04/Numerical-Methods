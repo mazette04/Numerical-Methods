{
  "nbformat": 4,
  "nbformat_minor": 0,
  "metadata": {
    "colab": {
      "name": "Matrix Algebra",
      "provenance": [],
      "authorship_tag": "ABX9TyN+OHRJQNw6rV85L7gKzAer",
      "include_colab_link": true
    },
    "kernelspec": {
      "name": "python3",
      "display_name": "Python 3"
    },
    "language_info": {
      "name": "python"
    }
  },
  "cells": [
    {
      "cell_type": "markdown",
      "metadata": {
        "id": "view-in-github",
        "colab_type": "text"
      },
      "source": [
        "<a href=\"https://colab.research.google.com/github/mazette04/Numerical-Methods/blob/main/Matrix_Algebra.ipynb\" target=\"_parent\"><img src=\"https://colab.research.google.com/assets/colab-badge.svg\" alt=\"Open In Colab\"/></a>"
      ]
    },
    {
      "cell_type": "markdown",
      "metadata": {
        "id": "tQCL79zSUL7F"
      },
      "source": [
        "##Matrix and its Operations"
      ]
    },
    {
      "cell_type": "code",
      "metadata": {
        "colab": {
          "base_uri": "https://localhost:8080/"
        },
        "id": "fRAeAWUTT0Ew",
        "outputId": "8a544fe2-bf37-4e63-9944-e0e75736029b"
      },
      "source": [
        "import numpy as np\n",
        "a = np.array([1,2,3]) #This is a 1 x 3 array\n",
        "a[0]=4\n",
        "print(a)"
      ],
      "execution_count": 11,
      "outputs": [
        {
          "output_type": "stream",
          "name": "stdout",
          "text": [
            "[4 2 3]\n"
          ]
        }
      ]
    },
    {
      "cell_type": "code",
      "metadata": {
        "colab": {
          "base_uri": "https://localhost:8080/"
        },
        "id": "QdYzF6sGUzv6",
        "outputId": "af3fe60c-6d82-4bbd-a67f-15bd3fb99f79"
      },
      "source": [
        "import numpy as np\n",
        "b = np.array([[1,2,3],[4,5,6]]) #This is an example of 2x3 matrix\n",
        "b[0,0] = 7\n",
        "print(b)"
      ],
      "execution_count": 10,
      "outputs": [
        {
          "output_type": "stream",
          "name": "stdout",
          "text": [
            "[[7 2 3]\n",
            " [4 5 6]]\n"
          ]
        }
      ]
    },
    {
      "cell_type": "code",
      "metadata": {
        "colab": {
          "base_uri": "https://localhost:8080/"
        },
        "id": "Y0S59Vm6XMxy",
        "outputId": "91989e9a-349f-4c95-d353-6df406b21ecf"
      },
      "source": [
        "import numpy as np\n",
        "c =np.array([[1,2,3],[4,5,6],[7,8,9]]) #This is an example of square matrix\n",
        "print(c)"
      ],
      "execution_count": 12,
      "outputs": [
        {
          "output_type": "stream",
          "name": "stdout",
          "text": [
            "[[1 2 3]\n",
            " [4 5 6]\n",
            " [7 8 9]]\n"
          ]
        }
      ]
    },
    {
      "cell_type": "code",
      "metadata": {
        "colab": {
          "base_uri": "https://localhost:8080/"
        },
        "id": "a7eKnnAQXqVh",
        "outputId": "64c20b83-d708-4699-9cea-a335bbe2e049"
      },
      "source": [
        "import numpy as np\n",
        "d= np.full((2,2),4)\n",
        "print(d)"
      ],
      "execution_count": 14,
      "outputs": [
        {
          "output_type": "stream",
          "name": "stdout",
          "text": [
            "[[4 4]\n",
            " [4 4]]\n"
          ]
        }
      ]
    },
    {
      "cell_type": "code",
      "metadata": {
        "colab": {
          "base_uri": "https://localhost:8080/"
        },
        "id": "bItY-DTlYGCn",
        "outputId": "a865774d-a7c4-40e9-b248-1496e48ed8ef"
      },
      "source": [
        "import numpy as np\n",
        "e = np.eye(2)\n",
        "print(e)\n"
      ],
      "execution_count": 15,
      "outputs": [
        {
          "output_type": "stream",
          "name": "stdout",
          "text": [
            "[[1. 0.]\n",
            " [0. 1.]]\n"
          ]
        }
      ]
    },
    {
      "cell_type": "code",
      "metadata": {
        "colab": {
          "base_uri": "https://localhost:8080/"
        },
        "id": "szS-n4BSYf6m",
        "outputId": "bfb6cf69-a431-489d-cad8-ba2415e24b74"
      },
      "source": [
        "import numpy as np\n",
        "e= np.diagonal([[1,2,3],[4,5,6],[7,8,9]])\n",
        "print(e)\n"
      ],
      "execution_count": 19,
      "outputs": [
        {
          "output_type": "stream",
          "name": "stdout",
          "text": [
            "[1 5 9]\n"
          ]
        }
      ]
    },
    {
      "cell_type": "code",
      "metadata": {
        "colab": {
          "base_uri": "https://localhost:8080/"
        },
        "id": "xIVTfyOnZxYa",
        "outputId": "5b55d71b-1f0c-470e-945a-54b5e24f1676"
      },
      "source": [
        "import numpy as np\n",
        "f = np.empty((0,10))\n",
        "print(f)"
      ],
      "execution_count": 20,
      "outputs": [
        {
          "output_type": "stream",
          "name": "stdout",
          "text": [
            "[]\n"
          ]
        }
      ]
    },
    {
      "cell_type": "code",
      "metadata": {
        "colab": {
          "base_uri": "https://localhost:8080/"
        },
        "id": "xMvd8d-tZ84i",
        "outputId": "08acb80b-9d7c-4c7c-ec51-c69e2cba853f"
      },
      "source": [
        "import numpy as np\n",
        "g = np.zeros((2,2))\n",
        "print(g)"
      ],
      "execution_count": 22,
      "outputs": [
        {
          "output_type": "stream",
          "name": "stdout",
          "text": [
            "[[0. 0.]\n",
            " [0. 0.]]\n"
          ]
        }
      ]
    },
    {
      "cell_type": "code",
      "metadata": {
        "colab": {
          "base_uri": "https://localhost:8080/"
        },
        "id": "BTGzdA4YaYOf",
        "outputId": "fc347d7b-df4f-41d7-efa1-838dc4e99178"
      },
      "source": [
        "import numpy as np\n",
        "e = np.eye(2)\n",
        "g = np.zeros((2,2))\n",
        "print (e)\n",
        "print (g)\n",
        "print (e+g) #This is the code to get the summation of matrices e and g\n",
        "print (e-g) #This is the code to get the difference of matrices e and g\n",
        "print (g-e)\n"
      ],
      "execution_count": 27,
      "outputs": [
        {
          "output_type": "stream",
          "name": "stdout",
          "text": [
            "[[1. 0.]\n",
            " [0. 1.]]\n",
            "[[0. 0.]\n",
            " [0. 0.]]\n",
            "[[1. 0.]\n",
            " [0. 1.]]\n",
            "[[1. 0.]\n",
            " [0. 1.]]\n",
            "[[-1.  0.]\n",
            " [ 0. -1.]]\n"
          ]
        }
      ]
    }
  ]
}